{
 "cells": [
  {
   "cell_type": "markdown",
   "metadata": {},
   "source": [
    "# Water Mission, IBM"
   ]
  },
  {
   "cell_type": "markdown",
   "metadata": {},
   "source": [
    "This Notebook offers analytics of water consumption for households in Busiro, Kikondo, and Dei districts of Uganda. It helps to create and update the monthly report from World Bank Data Project. You can find list of the report sections created using this notebook in _The Table of Content_ section below.\n",
    "\n",
    "The Notebook processes the dataset from Uganda's districts. We assume, that dataset is a separate Excel file for each district. It should have at least 1 sheet with data named \"Transaction log\". \n",
    "\n",
    "To update the dataset you should add new Excel file into Oblect Storage and write its name into proper file container. "
   ]
  },
  {
   "cell_type": "markdown",
   "metadata": {},
   "source": [
    "## Table of Content\n",
    "* [Library Imports and Settings](#settings)\n",
    " * [Global Variables](#variables)\n",
    " * [Library Imports](#imports)\n",
    " * [Common Figure Rendering Options](#rendering)\n",
    "* [Data Pre-processing](#preprocessing)\n",
    " * [DataFrames Creation](#dataframes)\n",
    " * [Functions](#section3)\n",
    " * [Data preparation](#section4)\n",
    "* [Report Data Calculation](#report)\n",
    " * [Section 1 - Water consumption analysis](#section1)\n",
    " * [Section 5 - Transactions Analysis](#section5)\n",
    " * [Section 6 - Renewal Amounts Analysis](#section6)\n"
   ]
  },
  {
   "cell_type": "markdown",
   "metadata": {},
   "source": [
    "<a id=\"settings\"></a>\n",
    "# Library Imports and Settings"
   ]
  },
  {
   "cell_type": "markdown",
   "metadata": {},
   "source": [
    "This section contains import statements for all the libraries used in the notebook and various configuration settings we rely on."
   ]
  },
  {
   "cell_type": "markdown",
   "metadata": {},
   "source": [
    "<a id=\"variables\"></a>\n",
    "## Global Variables"
   ]
  },
  {
   "cell_type": "markdown",
   "metadata": {},
   "source": [
    "The notebook allows you switching your environment between local environment and Bluemix cloud. \n",
    "\n",
    "If you run the notebook on your local system set **environment** variable to **_local_** and the path to the data file using **root** variable. If using Data Science Experience, set **environment** variable to any value different from **_local_** (for example, you may use **_bluemix_** value to make it more clear)."
   ]
  },
  {
   "cell_type": "code",
   "execution_count": 1,
   "metadata": {
    "collapsed": true
   },
   "outputs": [],
   "source": [
    "environment = 'bluemix'\n",
    "root = 'c:\\\\sparknotes\\\\'\n",
    "districts = ['Busiro', 'Kikondo', 'Dei', 'Chanhumba'] # Do not change\n",
    "pattern = r'[a-z]' # Do not change"
   ]
  },
  {
   "cell_type": "markdown",
   "metadata": {},
   "source": [
    "If using Data Science Experience, the dataset file is stored on the Bluemix cloud and we need to define credeantials for accessing it.\n",
    "\n",
    "If you need to use another Object storage in Data Science Experience, you have to change **credentials** variable below. You may create an empty cell, click **_Find and Add Data_** menu (at the top right side), then choose **_Insert to code_** for any file and pick out **_Insert Credentials_**. New credentials will appear in the active cell. You may rename the fragment JSON to **credentials** and drop or comment the older one."
   ]
  },
  {
   "cell_type": "code",
   "execution_count": 2,
   "metadata": {
    "collapsed": true
   },
   "outputs": [],
   "source": [
    "#@hidden_cell\n",
    "credentials = {\n",
    "  'auth_url':'https://identity.open.softlayer.com',\n",
    "  'project':'object_storage_a2fb7d55_67e7_4258_a192_04215bdfe373',\n",
    "  'project_id':'dbb445bcb1014178ba6b418a8d14c2e4',\n",
    "  'region':'dallas',\n",
    "  'user_id':'2e7ed539b10c4b939a08b476167196de',\n",
    "  'domain_id':'33dfa34c5bad4cf5b34da9def543de97',\n",
    "  'domain_name':'907035',\n",
    "  'username':'member_8d133283f3260061be9bb8a15c4cebfc424d2a41',\n",
    "  'password':\"\"\"yLnZVC1BG&]-X7Y?\"\"\",\n",
    "  'container':'WaterMissionWorldBank',\n",
    "  'tenantId':'undefined',\n",
    "  'filename':'Uganda Transaction logs.xlsx'\n",
    "}"
   ]
  },
  {
   "cell_type": "code",
   "execution_count": 3,
   "metadata": {
    "collapsed": true
   },
   "outputs": [],
   "source": [
    "auth_url = credentials['auth_url']\n",
    "container = credentials['container']\n",
    "username = credentials['username']\n",
    "domain_id = credentials['domain_id']\n",
    "password= credentials['password']"
   ]
  },
  {
   "cell_type": "markdown",
   "metadata": {},
   "source": [
    "<a id=\"imports\"></a>\n",
    "## Library Imports"
   ]
  },
  {
   "cell_type": "code",
   "execution_count": 4,
   "metadata": {
    "collapsed": true
   },
   "outputs": [],
   "source": [
    "import time\n",
    "import math\n",
    "from __future__ import division, print_function\n",
    "import numpy as np\n",
    "import matplotlib.pyplot as plt\n",
    "import datetime\n",
    "from datetime import datetime\n",
    "from operator import itemgetter\n",
    "import pylab\n",
    "from io import BytesIO\n",
    "import requests\n",
    "import json\n",
    "import pandas as pd\n",
    "\n",
    "from matplotlib import mlab\n",
    "from __future__ import print_function\n",
    "import calendar\n",
    "%matplotlib inline\n",
    "\n",
    "import warnings\n",
    "warnings.filterwarnings('ignore')"
   ]
  },
  {
   "cell_type": "markdown",
   "metadata": {},
   "source": [
    "<a id=\"rendering\"></a>\n",
    "## Common Figure Rendering Options"
   ]
  },
  {
   "cell_type": "code",
   "execution_count": 5,
   "metadata": {},
   "outputs": [
    {
     "data": {
      "image/png": "[encoded data removed]",
      "text/plain": [
       "<matplotlib.figure.Figure at 0x63f2c18>"
      ]
     },
     "metadata": {},
     "output_type": "display_data"
    }
   ],
   "source": [
    "plt.rcParams.update({'font.size': 16})\n",
    "plt.tick_params(axis='both', which='major', labelsize=18)\n",
    "fig_size = plt.rcParams[\"figure.figsize\"]\n",
    "fig_size = [15, 7]\n",
    "plt.rcParams[\"figure.figsize\"] = fig_size"
   ]
  },
  {
   "cell_type": "markdown",
   "metadata": {},
   "source": [
    "<a id=\"preprocessing\"></a>\n",
    "# Data Pre-processing\n",
    "This section aggregates code to load data, definitions of functions used to pre-process data, and code to prepare data."
   ]
  },
  {
   "cell_type": "markdown",
   "metadata": {},
   "source": [
    "<a id=\"dataframes\"></a>\n",
    "## DataFrames Creation\n",
    "In this section we load dataset file from and create DataFrame instances for the districts from corresponding tabs in the file."
   ]
  },
  {
   "cell_type": "code",
   "execution_count": 6,
   "metadata": {
    "collapsed": true
   },
   "outputs": [],
   "source": [
    "# @hidden_cell\n",
    "# This function accesses a file in your Object Storage using 'credentials' variable defined above.\n",
    "def get_object_storage_file_with_credentials(container, filename, username, domain_id, password, auth_url):\n",
    "    \"\"\"This functions returns a BytesIO object containing the file content from Bluemix Object Storage.\"\"\"\n",
    "\n",
    "    url1 = ''.join([auth_url, '/v3/auth/tokens'])\n",
    "    data = {'auth': {'identity': {'methods': ['password'],\n",
    "            'password': {'user': {'name': username,'domain': {'id': domain_id},\n",
    "            'password': password}}}}}\n",
    "    headers1 = {'Content-Type': 'application/json'}\n",
    "    resp1 = requests.post(url=url1, data=json.dumps(data), headers=headers1)\n",
    "    resp1_body = resp1.json()\n",
    "    for e1 in resp1_body['token']['catalog']:\n",
    "        if(e1['type']=='object-store'):\n",
    "            for e2 in e1['endpoints']:\n",
    "                        if(e2['interface']=='public'and e2['region']=='dallas'):\n",
    "                            url2 = ''.join([e2['url'],'/', container, '/', filename])\n",
    "    s_subject_token = resp1.headers['x-subject-token']\n",
    "    headers2 = {'X-Auth-Token': s_subject_token, 'accept': 'application/json'}\n",
    "    resp2 = requests.get(url=url2, headers=headers2)\n",
    "    return BytesIO(resp2.content)\n",
    "\n",
    "def get_file_content(filename):\n",
    "    if(environment == 'local'):\n",
    "        return root + filename\n",
    "    else:\n",
    "        return get_object_storage_file_with_credentials(container, filename, username, domain_id, password, auth_url)"
   ]
  },
  {
   "cell_type": "markdown",
   "metadata": {},
   "source": [
    "The next section defines the dataset to be analyzed: for each site we define a list of files to be loaded and processed. When new data is available, add the files in the corresponding lists."
   ]
  },
  {
   "cell_type": "code",
   "execution_count": 7,
   "metadata": {
    "collapsed": true
   },
   "outputs": [],
   "source": [
    "files_Chanhumba = ['Tanzania Transaction logs - Chanhumba.xlsx']\n",
    "files_Busiro = ['Uganda Transaction logs - Busiro.xlsx']\n",
    "files_Kikondo = ['Uganda Transaction logs - Kikondo.xlsx']\n",
    "files_Dei = ['Uganda Transaction logs - Dei.xlsx']\n",
    "\n",
    "sheet_name = 'Transaction log' # name of the tab, that contains transaction data"
   ]
  },
  {
   "cell_type": "markdown",
   "metadata": {},
   "source": [
    "The _readFiles_ function loads files from the specified list and returns a single _DataFrame_ object with aggregated data."
   ]
  },
  {
   "cell_type": "code",
   "execution_count": 8,
   "metadata": {
    "collapsed": true
   },
   "outputs": [],
   "source": [
    "def readFiles(files):\n",
    "    frames = []\n",
    "    for file in files:\n",
    "        xls = pd.ExcelFile(get_file_content(file))\n",
    "        frames.append(xls.parse(sheet_name))\n",
    "    return pd.concat(frames)"
   ]
  },
  {
   "cell_type": "code",
   "execution_count": 9,
   "metadata": {
    "collapsed": true
   },
   "outputs": [],
   "source": [
    "waterUsageRDD_Kikondo = readFiles(files_Kikondo)\n",
    "waterUsageRDD_Busiro = readFiles(files_Busiro)\n",
    "waterUsageRDD_Dei = readFiles(files_Dei)\n",
    "waterUsageRDD_Chanhumba = readFiles(files_Chanhumba)"
   ]
  },
  {
   "cell_type": "markdown",
   "metadata": {},
   "source": [
    "<a id=\"section3\"></a>\n",
    "## Functions\n",
    "This section defines functions used for data pre-processing."
   ]
  },
  {
   "cell_type": "code",
   "execution_count": 10,
   "metadata": {
    "collapsed": true
   },
   "outputs": [],
   "source": [
    "# For section 5\n",
    "\n",
    "def printTransactionEachRangeAllDistricts(districts):\n",
    "    N = 13\n",
    "    ind = np.arange(N)\n",
    "    width = 0.2\n",
    "    labels = []\n",
    "    fig, ax = plt.subplots()\n",
    "    \n",
    "    for i in range(0, len(districts)):\n",
    "        shift = 0\n",
    "        districtColor = 'b'\n",
    "        if (i > 0):\n",
    "            shift += shift + i * width\n",
    "            if (i == 1):\n",
    "                districtColor = 'g'\n",
    "            elif(i == 2):\n",
    "                districtColor = 'r'\n",
    "            else:\n",
    "                districtColor = 'y'\n",
    "        data = rf[rf.District == districts[i]]\n",
    "        labels = ['0-25', '25-50', '50-75', '75-100', '100-125', '125-150', '150-175', '175-200', '200-225', '225-250', '250-275', '275-300', '>300']\n",
    "        data.Transaction_id = data.Transaction_id / data.Transaction_id.sum() * 100\n",
    "        ax.bar(ind + shift, data.Transaction_id, width, color = districtColor) \n",
    "    ax.set_xlabel(\"Credit value\")\n",
    "    ax.set_ylabel(\"Percentage of total transactions\")\n",
    "    ax.set_xticks(ind)\n",
    "    ax.set_xticklabels(labels, rotation=90, horizontalalignment='left')\n",
    "    ax.legend(districts)\n",
    "    plt.title('Total number transactions in each range')\n",
    "    plt.margins(0.02)\n",
    "    \n",
    "def printDailyTransactionSumAllDistricts(districts):\n",
    "    N = 13\n",
    "    ind = np.arange(N)\n",
    "    width = 0.2\n",
    "    labels = []\n",
    "    fig, ax = plt.subplots()\n",
    "    for i in range(0, len(districts)):\n",
    "        shift = 0\n",
    "        districtColor = 'b'\n",
    "        if (i > 0):\n",
    "            shift += shift + i * width\n",
    "            if (i == 1):\n",
    "                districtColor = 'g'\n",
    "            elif(i == 2):\n",
    "                districtColor = 'r'\n",
    "            else:\n",
    "                districtColor = 'y'\n",
    "        data = rf_byDay[rf_byDay.District == districts[i]]\n",
    "        labels = ['0-25', '25-50', '50-75', '75-100', '100-125', '125-150', '150-175', '175-200', '200-225', '225-250', '250-275', '275-300', '>300']\n",
    "        data.Credits = data.Credits / data.Credits.sum() * 100\n",
    "        ax.bar(ind + shift, data.Credits, width, color = districtColor) \n",
    "    ax.set_xlabel(\"Credit value\")\n",
    "    ax.set_ylabel(\"Percentage of total transactions\")\n",
    "    ax.set_xticks(ind)\n",
    "    ax.set_xticklabels(labels, rotation=90, horizontalalignment='left')\n",
    "    ax.legend(districts,loc = 2)\n",
    "    plt.title('Summing up all daily transcations for each card')\n",
    "    plt.margins(0.02)\n",
    "\n",
    "#For section 6\n",
    "\n",
    "def printRenewalAmountsAllDistricts(districts):\n",
    "    N = 7\n",
    "    ind = np.arange(N)\n",
    "    width = 0.2\n",
    "    labels = []\n",
    "    fig, ax = plt.subplots()\n",
    "    for i in range(0, len(districts)):\n",
    "        shift = 0\n",
    "        districtColor = 'b'\n",
    "        if (i > 0):\n",
    "            shift += shift + i * width\n",
    "            if (i == 1):\n",
    "                districtColor = 'g'\n",
    "            elif(i == 2):\n",
    "                districtColor = 'r'\n",
    "            else:\n",
    "                districtColor = 'y'\n",
    "        data = rf_balanceRes[rf_balanceRes.District == districts[i]]\n",
    "        labels = ['0-200', '200-400', '400-600', '600-800', '800-1000', '1000-1200', '>1200']\n",
    "        data.Smartcard_1 = data.Smartcard_1 / data.Smartcard_1.sum() * 100\n",
    "        ax.bar(ind + shift, data.Smartcard_1, width, color = districtColor) \n",
    "    ax.set_xlabel(\"Renew value\")\n",
    "    ax.set_ylabel(\"Percentage of total transactions\")\n",
    "    ax.set_xticks(ind)\n",
    "    ax.set_xticklabels(labels, rotation=90, horizontalalignment='left')\n",
    "    ax.legend(districts)\n",
    "    plt.title('Renewal amounts analisys')\n",
    "    plt.margins(0.02)"
   ]
  },
  {
   "cell_type": "code",
   "execution_count": 11,
   "metadata": {
    "collapsed": true
   },
   "outputs": [],
   "source": [
    "# get max interval between transactions (use for stopped cards determining)\n",
    "def calculateInterval(card, district):\n",
    "    percentage = 5\n",
    "    data = cardsHistory[cardsHistory.District == district]\n",
    "    cardData = data[data.Smartcard_1 == card]\n",
    "    initAr = list(cardData.Date)\n",
    "    ar = (len(initAr) - 1) * [0]\n",
    "    for index in range(len(initAr) - 1):\n",
    "        ar[index] = (initAr[index+1] - initAr[index]).days\n",
    "    ar.sort()\n",
    "    values = 2\n",
    "    if(len(ar) * percentage / 100) > 2:\n",
    "        values = int(round(len(ar) * percentage / 100) )\n",
    "    if(values > len(ar)):\n",
    "        values = len(ar)\n",
    "    if(values  == 0):\n",
    "        maxIntervalOfUsage = 0\n",
    "    else:\n",
    "        maxIntervalOfUsage = round(sum(ar[-values:])/values)\n",
    "    if(maxIntervalOfUsage > 0):\n",
    "        if(maxIntervalOfUsage < 30):\n",
    "            maxIntervalOfUsage = 30\n",
    "    \n",
    "    return maxIntervalOfUsage\n",
    "\n",
    "def getInterval(x):\n",
    "    card = x[0] \n",
    "    district = x[1] \n",
    "    return calculateInterval(card, district)\n",
    "\n",
    "def findStoppedCardsWithCredits(card, district, endDate, lastUsageDate, lastBalance, interval, balanceLowerEdge):\n",
    "    res = 'Running'\n",
    "    if ((endDate - lastUsageDate).days > interval):\n",
    "        if (float(lastBalance) > balanceLowerEdge):\n",
    "            res = 'Stopped with credits'\n",
    "        else:\n",
    "            res = 'Stopped without credits'\n",
    "    return res\n",
    "\n",
    "# get card status: Running, stopped with credits or stopped without credits \n",
    "def getStatus(x):\n",
    "    card = x[0] \n",
    "    district = x[1] \n",
    "    endDate = x[2]\n",
    "    lastUsageDate = x[3]\n",
    "    lastBalance = x[4]\n",
    "    interval = x[5]\n",
    "    return findStoppedCardsWithCredits(card, district, endDate, lastUsageDate, lastBalance, interval, balanceLowerEdge)\n",
    "\n",
    "def getCardDataByDistrict(district):\n",
    "    if(district == 'Busiro'):\n",
    "        return waterUsageDF_Busiro\n",
    "    if(district == 'Kikondo'):\n",
    "        return waterUsageDF_Kikondo\n",
    "    if(district == 'Dei'):\n",
    "        return waterUsageDF_Dei\n",
    "    if(district == 'Chanhumba'):\n",
    "        return waterUsageDF_Chanhumba\n",
    "\n",
    "# find how many times card was renewed, what is the average amount of deposit, min balance before deposit and average balance before deposit \n",
    "def getCreditInfoByDistrict(district):\n",
    "    data = getCardDataByDistrict(district)    \n",
    "    data.Balance = data.Balance.astype(float).fillna(0)\n",
    "    data.Credits = data.Credits.astype(float).abs().fillna(0)\n",
    "    d1 = data.groupby(['Smartcard_1','Date', 'Date_and_time']).Balance.min().reset_index()\n",
    "    d2 = data.groupby(['Smartcard_1','Date', 'Date_and_time']).Credits.sum().reset_index()\n",
    "    df = pd.merge(d1, d2, on = ['Smartcard_1','Date', 'Date_and_time'])\n",
    "    df.Date_and_time = pd.to_datetime(df.Date_and_time)\n",
    "    df = df.sort_values(['Smartcard_1','Date', 'Date_and_time'], ascending=[True, True, True])\n",
    "    df['Balance_diff'] = df.groupby('Smartcard_1')['Balance'].diff().fillna(0)\n",
    "    df = df[(df.Balance_diff > 0)]\n",
    "    df.Credits = df.Credits + df.Balance_diff\n",
    "    df['Balance_prev'] = df.Balance - df.Balance_diff\n",
    "    prevMin = df[df.Balance_diff > 0].groupby('Smartcard_1')['Balance_prev'].min()\n",
    "    prevAve = df[df.Balance_diff > 0].groupby('Smartcard_1')['Balance_prev'].mean()\n",
    "    count = df[df.Balance_diff > 0].groupby('Smartcard_1')['Balance_diff'].count()\n",
    "    ave = df[df.Balance_diff > 0].groupby('Smartcard_1')['Credits'].mean()\n",
    "    result = pd.concat([count, ave, prevMin, prevAve], axis = 1).reset_index()\n",
    "    result = result.fillna(0)\n",
    "    result.columns = ['Smartcard_1', 'Credits_Add', 'Add_Credits_Mean', 'Balance_Before_Credit_Min', 'Balance_Before_Credit_Mean']\n",
    "    return result"
   ]
  },
  {
   "cell_type": "code",
   "execution_count": 12,
   "metadata": {
    "collapsed": true
   },
   "outputs": [],
   "source": [
    "#  this function defines credit amount groups\n",
    "def creditGroup(y):\n",
    "    x = abs(y)\n",
    "    if (x >= 0) & (x < 25):\n",
    "        return 1\n",
    "    if (x >= 25) & (x < 50):\n",
    "        return 2\n",
    "    if (x >= 50) & (x < 75):\n",
    "        return 3\n",
    "    if (x >= 75) & (x < 100):\n",
    "        return 4\n",
    "    if (x >= 100) & (x < 125):\n",
    "        return 5\n",
    "    if (x >= 125) & (x < 150):\n",
    "        return 6\n",
    "    if (x >= 150) & (x < 175):\n",
    "        return 7\n",
    "    if (x >= 175) & (x < 200):\n",
    "        return 8\n",
    "    if (x >= 200) & (x < 225):\n",
    "        return 9\n",
    "    if (x >= 225) & (x < 250):\n",
    "        return 10\n",
    "    if (x >= 250) & (x < 275):\n",
    "        return 11\n",
    "    if (x >= 275) & (x < 300):\n",
    "        return 12\n",
    "    if (x >= 300):\n",
    "        return 13\n",
    "  \n",
    "    return 0"
   ]
  },
  {
   "cell_type": "code",
   "execution_count": 13,
   "metadata": {
    "collapsed": true
   },
   "outputs": [],
   "source": [
    "# this function defines credit renewal amount groups\n",
    "def renewBalanceGroup(x):\n",
    "    if (x >= 0) & (x < 200):\n",
    "        return 1\n",
    "    if (x >= 200) & (x < 400):\n",
    "        return 2\n",
    "    if (x >= 400) & (x < 600):\n",
    "        return 3\n",
    "    if (x >= 600) & (x < 800):\n",
    "        return 4\n",
    "    if (x >= 800) & (x < 1000):\n",
    "        return 5\n",
    "    if (x >= 1000) & (x < 1200):\n",
    "        return 6\n",
    "    if (x >= 1200):\n",
    "        return 7\n",
    "  \n",
    "    return 0"
   ]
  },
  {
   "cell_type": "markdown",
   "metadata": {},
   "source": [
    "<a id=\"section4\"></a>\n",
    "## Data preparation"
   ]
  },
  {
   "cell_type": "markdown",
   "metadata": {},
   "source": [
    "Remove rows with empty 'Smartcard 1' values, drop duplicates, convert date and time, add district name"
   ]
  },
  {
   "cell_type": "code",
   "execution_count": 14,
   "metadata": {
    "collapsed": true
   },
   "outputs": [],
   "source": [
    "def cleanData(waterUsageDF, districtName):\n",
    "    waterUsageDF = waterUsageDF[~waterUsageDF['Smartcard 1'].isnull()]\n",
    "    if(waterUsageDF['Smartcard 1'].dtype != 'object'):\n",
    "        waterUsageDF['Smartcard 1'] = waterUsageDF['Smartcard 1'].astype(int).astype(str)   \n",
    "    waterUsageDF_2 = waterUsageDF[(waterUsageDF['Smartcard 1'].str.contains(pattern) != True) & (waterUsageDF['Smartcard 1'] != '')]\n",
    "    waterUsageDF_2.columns = ['Transaction_id','Date_and_time','Dispenser','Operation','Smartcard_1','Smartcard_2','Water_dispensed','Credits','Balance','Total_created']\n",
    "    waterUsageDF_2 = waterUsageDF_2.drop_duplicates().reset_index(drop=True)\n",
    "    \n",
    "    waterUsageDF_2.Date_and_time = pd.to_datetime(waterUsageDF_2.Date_and_time, format='%d-%m-%Y %H:%M:%S')\n",
    "    waterUsageDF_2['Date'] = waterUsageDF_2.Date_and_time.dt.date\n",
    "    waterUsageDF_2.Date = pd.to_datetime(waterUsageDF_2.Date, format='%Y-%m-%d')\n",
    "    \n",
    "    waterUsageDF_2['District'] = districtName\n",
    "    \n",
    "    return waterUsageDF_2"
   ]
  },
  {
   "cell_type": "code",
   "execution_count": 15,
   "metadata": {
    "collapsed": true
   },
   "outputs": [],
   "source": [
    "waterUsageDF_Busiro = cleanData(waterUsageRDD_Busiro, 'Busiro')\n",
    "waterUsageDF_Kikondo = cleanData(waterUsageRDD_Kikondo, 'Kikondo')\n",
    "waterUsageDF_Dei = cleanData(waterUsageRDD_Dei, 'Dei')\n",
    "waterUsageDF_Chanhumba = cleanData(waterUsageRDD_Chanhumba, 'Chanhumba')"
   ]
  },
  {
   "cell_type": "markdown",
   "metadata": {},
   "source": [
    "Let's move transactions for 'vendor' cards into a separate set, and remove them from the dataset"
   ]
  },
  {
   "cell_type": "code",
   "execution_count": 16,
   "metadata": {
    "collapsed": true
   },
   "outputs": [],
   "source": [
    "vendor_cards = {'1604', '1605', '2281', '2283', '2284', '2291', '2292', '2954'}\n",
    "vendors = waterUsageDF_Kikondo[waterUsageDF_Kikondo[\"Smartcard_1\"].isin(vendor_cards)] \n",
    "vendors = vendors.append(waterUsageDF_Busiro[waterUsageDF_Busiro[\"Smartcard_1\"].isin(vendor_cards)])\n",
    "\n",
    "waterUsageDF_Busiro = waterUsageDF_Busiro[~waterUsageDF_Busiro[\"Smartcard_1\"].isin(vendor_cards)] \n",
    "waterUsageDF_Kikondo = waterUsageDF_Kikondo[~waterUsageDF_Kikondo[\"Smartcard_1\"].isin(vendor_cards)]"
   ]
  },
  {
   "cell_type": "markdown",
   "metadata": {},
   "source": [
    "Save datasets with all types of operation for future"
   ]
  },
  {
   "cell_type": "code",
   "execution_count": 17,
   "metadata": {
    "collapsed": true
   },
   "outputs": [],
   "source": [
    "waterUsageDF_Busiro_allOperations = waterUsageDF_Busiro\n",
    "waterUsageDF_Kikondo_allOperations = waterUsageDF_Kikondo\n",
    "waterUsageDF_Dei_allOperations = waterUsageDF_Dei\n",
    "waterUsageDF_Chanhumba_allOperations = waterUsageDF_Chanhumba\n",
    "\n",
    "allOperations = waterUsageDF_Busiro_allOperations.append(waterUsageDF_Kikondo_allOperations).append(waterUsageDF_Dei).append(waterUsageDF_Chanhumba).append(vendors)\n",
    "allOperations = allOperations[~allOperations.Smartcard_1.isnull()]"
   ]
  },
  {
   "cell_type": "markdown",
   "metadata": {
    "collapsed": true
   },
   "source": [
    "Let's remove from from the dataset all operations different to _Water dispensed_, and further clean the data"
   ]
  },
  {
   "cell_type": "code",
   "execution_count": 18,
   "metadata": {
    "collapsed": true
   },
   "outputs": [],
   "source": [
    "def cleanData2(waterUsageDF):\n",
    "    waterUsageDF = waterUsageDF[(waterUsageDF.Operation == 'Water dispensed')]\n",
    "    waterUsageDF.Smartcard_1 = waterUsageDF.Smartcard_1.replace(to_replace='.0', value='', regex=False)\n",
    "    waterUsageDF.Smartcard_1 = waterUsageDF.Smartcard_1.astype(int).astype(str)\n",
    "    waterUsageDF = waterUsageDF[(waterUsageDF.Smartcard_1 != '')]\n",
    "    return waterUsageDF"
   ]
  },
  {
   "cell_type": "code",
   "execution_count": 19,
   "metadata": {
    "collapsed": true
   },
   "outputs": [],
   "source": [
    "waterUsageDF_Busiro = cleanData2(waterUsageDF_Busiro)\n",
    "waterUsageDF_Kikondo = cleanData2(waterUsageDF_Kikondo)\n",
    "waterUsageDF_Dei = cleanData2(waterUsageDF_Dei)\n",
    "waterUsageDF_Chanhumba = cleanData2(waterUsageDF_Chanhumba)\n"
   ]
  },
  {
   "cell_type": "markdown",
   "metadata": {},
   "source": [
    "Clean the aggregated data as well"
   ]
  },
  {
   "cell_type": "code",
   "execution_count": 20,
   "metadata": {
    "collapsed": true
   },
   "outputs": [],
   "source": [
    "allOperations.Smartcard_1 = allOperations.Smartcard_1.replace(to_replace='.0', value='', regex=False)\n",
    "allOperations.Smartcard_2 = allOperations.Smartcard_2.replace(to_replace='.0', value='', regex=False)\n",
    "\n",
    "allOperations.Smartcard_1 = allOperations.Smartcard_1.astype(int).astype(str)\n",
    "\n",
    "allOperations = allOperations[(allOperations.Smartcard_1 != '')]"
   ]
  },
  {
   "cell_type": "markdown",
   "metadata": {},
   "source": [
    "Prepare data related to credits"
   ]
  },
  {
   "cell_type": "code",
   "execution_count": 21,
   "metadata": {
    "collapsed": true
   },
   "outputs": [],
   "source": [
    "def prepareCreditsData(waterUsageDF, districtName):\n",
    "    credits = getCreditInfoByDistrict(districtName)\n",
    "    result = pd.merge(waterUsageDF, credits, on='Smartcard_1', how='left')\n",
    "    result['District'] = districtName\n",
    "    result['EndDate'] = waterUsageDF.Date.max()\n",
    "    return result\n",
    "\n",
    "busiroResult = prepareCreditsData(waterUsageDF_Busiro, 'Busiro')\n",
    "kikondoResult = prepareCreditsData(waterUsageDF_Kikondo, 'Kikondo')\n",
    "deiResult = prepareCreditsData(waterUsageDF_Dei, 'Dei')\n",
    "chanhumbaResult = prepareCreditsData(waterUsageDF_Chanhumba, 'Chanhumba')"
   ]
  },
  {
   "cell_type": "code",
   "execution_count": 22,
   "metadata": {
    "collapsed": true
   },
   "outputs": [],
   "source": [
    "result = pd.DataFrame(busiroResult.append(kikondoResult).append(deiResult).append(chanhumbaResult), \n",
    "                columns=['Transaction_id','Date','Date_and_time','EndDate','District','Dispenser','Smartcard_1','Water_dispensed',\n",
    "                'Credits','Balance','Credits_Add','Add_Credits_Mean','Balance_Before_Credit_Min','Balance_Before_Credit_Mean'])\n",
    "\n",
    "transaction_Count = result.groupby(['District','Smartcard_1'])['Transaction_id'].count().reset_index()\n",
    "water_dispensed_Mean = result.groupby(['District','Smartcard_1'])['Water_dispensed'].mean().reset_index()\n",
    "first_Usage_Date = allOperations.groupby(['District','Smartcard_1'])['Date'].min().reset_index()\n",
    "last_Usage_Date = allOperations.groupby(['District','Smartcard_1'])['Date'].max().reset_index()\n",
    "\n",
    "d1 = pd.merge(transaction_Count, water_dispensed_Mean, on=['District','Smartcard_1'], how='left')\n",
    "d2 = pd.merge(first_Usage_Date, last_Usage_Date, on=['District','Smartcard_1'], how='left')\n",
    "additionalDB = pd.merge(d1, d2, on=['District','Smartcard_1'], how='left')\n",
    "additionalDB.columns = ['District', 'Smartcard_1', 'Transaction_Count', 'Water_dispensed_Mean', 'First_Usage_Date', 'Last_Usage_Date']\n",
    "resultset = pd.merge(result, additionalDB, on=['District','Smartcard_1'], how='left')"
   ]
  },
  {
   "cell_type": "code",
   "execution_count": 23,
   "metadata": {
    "collapsed": true
   },
   "outputs": [],
   "source": [
    "cardData1 = allOperations.groupby(['District','Smartcard_1', 'Date']).Water_dispensed.sum()\n",
    "cardData2 = allOperations.groupby(['District','Smartcard_1', 'Date']).Balance.min()\n",
    "cardDataRes = pd.concat([cardData1, cardData2], axis = 1).reset_index()\n",
    "cardsHistory = cardDataRes.sort_values(['District','Smartcard_1', 'Date'], ascending=[True,True,True]).reset_index(drop=True)\n",
    "\n",
    "lastBalance = cardsHistory.groupby(['District','Smartcard_1']).Balance.last().reset_index()\n",
    "lastBalance.columns = ['District','Smartcard_1','LastBalance']\n",
    "\n",
    "cardsMaxInterval = pd.DataFrame(lastBalance, columns=['Smartcard_1', 'District'], index = lastBalance.index).drop_duplicates().reset_index(drop=True)\n",
    "cardsMaxInterval.loc[:,'Interval'] = cardsMaxInterval.apply(getInterval, axis = 1)\n",
    "\n",
    "resultset = pd.merge(resultset, lastBalance, on=['District','Smartcard_1'], how='left')\n",
    "resultset = pd.merge(resultset, cardsMaxInterval, on=['District','Smartcard_1'], how='left')\n",
    "resultset.LastBalance = resultset.LastBalance.astype(float)\n",
    "\n",
    "balanceLowerEdge = 15\n",
    "\n",
    "cardsStatus = pd.DataFrame(resultset, columns=['Smartcard_1', 'District', 'EndDate', \n",
    "                                               'Last_Usage_Date', 'LastBalance', 'Interval'], index = resultset.index).drop_duplicates().reset_index(drop=True)\n",
    "cardsStatus.loc[:,'Status'] = cardsStatus.apply(getStatus, axis = 1)"
   ]
  },
  {
   "cell_type": "code",
   "execution_count": 24,
   "metadata": {
    "collapsed": true
   },
   "outputs": [],
   "source": [
    "resultset = pd.merge(resultset, cardsStatus, on=['Smartcard_1', 'District', 'EndDate', 'Last_Usage_Date', 'LastBalance', 'Interval'], how='left')\n",
    "resultset.LastBalance = resultset.LastBalance.fillna(0)\n",
    "resultset['CreditGroup'] = pd.Series(resultset.Credits, index=resultset.index).apply(creditGroup)"
   ]
  },
  {
   "cell_type": "markdown",
   "metadata": {},
   "source": [
    "<a id=\"report\"></a>\n",
    "# Report Data Calculation"
   ]
  },
  {
   "cell_type": "markdown",
   "metadata": {},
   "source": [
    "<a id=\"section1\"></a>\n",
    "## Section 1 - Water consumption analysis\n",
    "Here we just calculate number of data entries for each district we analyze. "
   ]
  },
  {
   "cell_type": "code",
   "execution_count": 25,
   "metadata": {},
   "outputs": [
    {
     "name": "stdout",
     "output_type": "stream",
     "text": [
      "Busiro size 173141\n",
      "Kikondo size 149910\n",
      "Dei size 53559\n",
      "Chanhumba size 26968\n"
     ]
    }
   ],
   "source": [
    "# Dataset length:\n",
    "print('Busiro size', len(waterUsageDF_Busiro_allOperations))\n",
    "print('Kikondo size', len(waterUsageDF_Kikondo_allOperations))\n",
    "print('Dei size', len(waterUsageDF_Dei_allOperations))\n",
    "print('Chanhumba size', len(waterUsageDF_Chanhumba_allOperations))"
   ]
  },
  {
   "cell_type": "markdown",
   "metadata": {},
   "source": [
    "<a id=\"section5\"></a>\n",
    "## Section 5 - Transactions Analysis"
   ]
  },
  {
   "cell_type": "code",
   "execution_count": 26,
   "metadata": {
    "collapsed": true
   },
   "outputs": [],
   "source": [
    "rf = resultset.pivot_table(\n",
    "    values='Transaction_id', index=['District', 'CreditGroup'], aggfunc=lambda x: len(x), fill_value=0).reset_index()\n",
    "\n",
    "creditGroupByDay = resultset.groupby(['District', 'Smartcard_1', 'Date']).Credits.sum().reset_index()\n",
    "creditGroupByDay['CreditGroup'] = pd.Series(creditGroupByDay.Credits, index=creditGroupByDay.index).apply(creditGroup)\n",
    "creditGroupByDay['Count'] = 1\n",
    "rf_byDay = creditGroupByDay.pivot_table(\n",
    "    values='Count', index=['District', 'CreditGroup'], aggfunc=np.sum, fill_value=0).reset_index()\n",
    "rf_byDay.columns = ['District', 'CreditGroup', 'Credits']\n",
    "\n",
    "rf_byDayRes = pd.concat([rf_byDay, rf], axis = 0).reset_index().fillna(0)\n",
    "rf_byDayRes1 = rf_byDayRes.groupby(['District', 'CreditGroup']).Credits.sum()\n",
    "rf_byDayRes2 = rf_byDayRes.groupby(['District', 'CreditGroup']).Transaction_id.sum()\n",
    "rf_byDayRes = pd.concat([rf_byDayRes1, rf_byDayRes2], axis = 1).reset_index()\n",
    "rf_byDayRes.columns = ['District', 'Group', 'TransactionsPerDay', 'TransactionsAll']\n",
    "\n",
    "d = resultset.groupby(['District','Smartcard_1','Date', 'Date_and_time']).Balance.min().reset_index()\n",
    "df_balance = d.sort_values(['District','Smartcard_1','Date', 'Date_and_time'], ascending=[True, True, True, True])\n",
    "df_balance['Balance_diff'] = df_balance.groupby(['District','Smartcard_1'])['Balance'].diff()\n",
    "df_balance['Balance_prev'] = df_balance.Balance - df_balance.Balance_diff\n",
    "\n",
    "# groups by balance\n",
    "df_clearBalance = df_balance[df_balance.Balance_diff > 0]\n",
    "df_clearBalance['BalanceGroup'] = pd.Series(df_clearBalance.Balance_diff, index=df_clearBalance.index).apply(renewBalanceGroup)\n",
    "rf_balanceRes = df_clearBalance.pivot_table(\n",
    "    values='Smartcard_1', index=['District', 'BalanceGroup'], aggfunc=lambda x: len(x), fill_value=0).reset_index()"
   ]
  },
  {
   "cell_type": "markdown",
   "metadata": {},
   "source": [
    "Next chart shows total number transactions in each range for all three locations:"
   ]
  },
  {
   "cell_type": "code",
   "execution_count": 27,
   "metadata": {},
   "outputs": [
    {
     "data": {
      "image/png": "[encoded data removed]",
      "text/plain": [
       "<matplotlib.figure.Figure at 0xb3edb38>"
      ]
     },
     "metadata": {},
     "output_type": "display_data"
    }
   ],
   "source": [
    "printTransactionEachRangeAllDistricts(districts)"
   ]
  },
  {
   "cell_type": "markdown",
   "metadata": {},
   "source": [
    "Then we summing up all daily transcations for each card:"
   ]
  },
  {
   "cell_type": "code",
   "execution_count": 28,
   "metadata": {},
   "outputs": [
    {
     "data": {
      "image/png": "[encoded data removed]",
      "text/plain": [
       "<matplotlib.figure.Figure at 0x1cf8da20>"
      ]
     },
     "metadata": {},
     "output_type": "display_data"
    }
   ],
   "source": [
    "printDailyTransactionSumAllDistricts(districts)"
   ]
  },
  {
   "cell_type": "code",
   "execution_count": 29,
   "metadata": {
    "collapsed": true
   },
   "outputs": [],
   "source": [
    "# summary information by each card\n",
    "summary_counts1 = resultset.groupby(['District', 'Smartcard_1', 'Date']).Credits.count()\n",
    "summary_counts2 = resultset.groupby(['District', 'Smartcard_1', 'Date']).Credits.max()\n",
    "summary_counts3 = resultset.groupby(['District', 'Smartcard_1', 'Date']).Credits.min()\n",
    "summary_counts4 = resultset.groupby(['District', 'Smartcard_1', 'Date']).Credits.mean()\n",
    "summary_counts5 = resultset.groupby(['District', 'Smartcard_1', 'Date']).Credits.sum()\n",
    "summary_counts = pd.concat([summary_counts1, summary_counts2, summary_counts3, \n",
    "                            summary_counts4, summary_counts5], axis = 1).reset_index().sort_values([\n",
    "    'District','Smartcard_1', 'Date'], ascending=[True, True, True])\n",
    "summary_counts.columns = ['District', 'Smartcard_1', 'Date', 'Transactions_count', 'Credit_min', 'Credit_max', 'Credit_average', 'Credit_sum']\n",
    "summary_counts.Credit_min = summary_counts.Credit_min.abs()\n",
    "summary_counts.Credit_max = summary_counts.Credit_max.abs()\n",
    "summary_counts.Credit_average = summary_counts.Credit_average.abs() \n",
    "summary_counts.Credit_sum = summary_counts.Credit_sum.abs() \n",
    "\n",
    "summary_counts['Month'] = pd.DatetimeIndex(summary_counts['Date']).month\n",
    "sctc1 = summary_counts.groupby(['District', 'Smartcard_1', 'Month']).Transactions_count.sum()\n",
    "sctc2 = summary_counts.groupby(['District', 'Smartcard_1', 'Month']).Transactions_count.count()\n",
    "sctc = pd.concat([sctc1, sctc2], axis = 1).reset_index()\n",
    "sctc.columns = ['District', 'Smartcard_1', 'Month', 'TransactionsByMonth', 'ActiveDaysInMonth']\n",
    "sctcm1 = sctc.groupby(['District', 'Smartcard_1']).TransactionsByMonth.mean()\n",
    "sctcm2 = sctc.groupby(['District', 'Smartcard_1']).ActiveDaysInMonth.mean()\n",
    "sctcm = pd.concat([sctcm1, sctcm2], axis = 1).reset_index()\n",
    "sctcm.columns = ['District', 'Smartcard_1', 'TransactionsByMonthAverage', 'ActiveDaysInMonthAverage']\n",
    "sctc = pd.merge(sctc, sctcm, on=['District', 'Smartcard_1'])\n",
    "\n",
    "summary_counts = pd.merge(summary_counts, sctc, on=['District', 'Smartcard_1', 'Month'])"
   ]
  },
  {
   "cell_type": "markdown",
   "metadata": {},
   "source": [
    "We calculate average number of transactions per day:"
   ]
  },
  {
   "cell_type": "code",
   "execution_count": 30,
   "metadata": {},
   "outputs": [
    {
     "name": "stdout",
     "output_type": "stream",
     "text": [
      "Average number of transactions per day:\n",
      "Busiro 2.7302704808548532\n",
      "Kikondo 3.310523446019629\n",
      "Dei 3.91181889971045\n",
      "Chanhumba 2.8118313404657016\n"
     ]
    }
   ],
   "source": [
    "print('Average number of transactions per day:')\n",
    "print('Busiro', summary_counts[summary_counts.District == 'Busiro'].Transactions_count.mean())\n",
    "print('Kikondo', summary_counts[summary_counts.District == 'Kikondo'].Transactions_count.mean())\n",
    "print('Dei', summary_counts[summary_counts.District == 'Dei'].Transactions_count.mean())\n",
    "print('Chanhumba', summary_counts[summary_counts.District == 'Chanhumba'].Transactions_count.mean())"
   ]
  },
  {
   "cell_type": "markdown",
   "metadata": {},
   "source": [
    "... and calculate average credits spent per day:"
   ]
  },
  {
   "cell_type": "code",
   "execution_count": 31,
   "metadata": {},
   "outputs": [
    {
     "name": "stdout",
     "output_type": "stream",
     "text": [
      "Average number of credits per day:\n",
      "Busiro 116.73161663334552\n",
      "Kikondo 49.960490615854866\n",
      "Dei 70.75479095133467\n",
      "Chanhumba 58.61933957962374\n"
     ]
    }
   ],
   "source": [
    "# Average number of credits per day:\n",
    "print('Average number of credits per day:')\n",
    "print('Busiro', summary_counts[summary_counts.District == 'Busiro'].Credit_average.mean())\n",
    "print('Kikondo', summary_counts[summary_counts.District == 'Kikondo'].Credit_average.mean())\n",
    "print('Dei', summary_counts[summary_counts.District == 'Dei'].Credit_average.mean())\n",
    "print('Chanhumba', summary_counts[summary_counts.District == 'Chanhumba'].Credit_average.mean())\n"
   ]
  },
  {
   "cell_type": "markdown",
   "metadata": {},
   "source": [
    "<a id=\"section6\"></a>\n",
    "# Section 6 - Renewal Amounts Analysis\n",
    "The next picture shows balance renewal amount split into several ranges for all three locations:"
   ]
  },
  {
   "cell_type": "code",
   "execution_count": 32,
   "metadata": {},
   "outputs": [
    {
     "data": {
      "image/png": "[encoded data removed]",
      "text/plain": [
       "<matplotlib.figure.Figure at 0x1659f748>"
      ]
     },
     "metadata": {},
     "output_type": "display_data"
    }
   ],
   "source": [
    "printRenewalAmountsAllDistricts(districts)"
   ]
  },
  {
   "cell_type": "code",
   "execution_count": 33,
   "metadata": {},
   "outputs": [
    {
     "data": {
      "text/plain": [
       "56.80190895741554"
      ]
     },
     "execution_count": 33,
     "metadata": {},
     "output_type": "execute_result"
    }
   ],
   "source": [
    "# calculating the average amount of water dispensed per unique card a day\n",
    "resultset[(resultset.District == 'Chanhumba')].groupby(['Date', 'Smartcard_1']).Water_dispensed.sum().mean()"
   ]
  },
  {
   "cell_type": "code",
   "execution_count": null,
   "metadata": {
    "collapsed": true
   },
   "outputs": [],
   "source": []
  },
  {
   "cell_type": "code",
   "execution_count": null,
   "metadata": {
    "collapsed": true
   },
   "outputs": [],
   "source": []
  }
 ],
 "metadata": {
  "anaconda-cloud": {},
  "kernelspec": {
   "display_name": "Python [conda root]",
   "language": "python",
   "name": "conda-root-py"
  },
  "language_info": {
   "codemirror_mode": {
    "name": "ipython",
    "version": 3
   },
   "file_extension": ".py",
   "mimetype": "text/x-python",
   "name": "python",
   "nbconvert_exporter": "python",
   "pygments_lexer": "ipython3",
   "version": "3.5.3"
  }
 },
 "nbformat": 4,
 "nbformat_minor": 2
}
